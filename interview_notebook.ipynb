{
 "cells": [
  {
   "cell_type": "code",
   "execution_count": null,
   "id": "9f3a47d0",
   "metadata": {},
   "outputs": [],
   "source": [
    "import pandas as pd\n",
    "import matplotlib.pyplot as plt"
   ]
  },
  {
   "cell_type": "markdown",
   "id": "0d41d1be",
   "metadata": {},
   "source": [
    "## 1. Read the Data"
   ]
  },
  {
   "cell_type": "code",
   "execution_count": null,
   "id": "1c787023",
   "metadata": {},
   "outputs": [],
   "source": [
    "df = pd.read_csv(\"nmi1.csv\")\n",
    "df.head()"
   ]
  },
  {
   "cell_type": "markdown",
   "id": "f9fd5253",
   "metadata": {},
   "source": [
    "#### Question\n",
    "Use `nmi2.csv` for the rest of the analysis."
   ]
  },
  {
   "cell_type": "markdown",
   "id": "7ff6fec8",
   "metadata": {},
   "source": [
    "---"
   ]
  },
  {
   "cell_type": "markdown",
   "id": "3248b2be",
   "metadata": {},
   "source": [
    "## 2. Basic EDA"
   ]
  },
  {
   "cell_type": "code",
   "execution_count": null,
   "id": "17adf222",
   "metadata": {},
   "outputs": [],
   "source": [
    "import plotly.express as px\n",
    "fig = px.line(df, x='AESTTime', y='Load', title='Load over Time')\n",
    "fig.show()"
   ]
  },
  {
   "cell_type": "markdown",
   "id": "cb546b30",
   "metadata": {},
   "source": [
    "#### What else would you potentially add in your EDA? Let's discuss."
   ]
  },
  {
   "cell_type": "markdown",
   "id": "9fed68a7",
   "metadata": {},
   "source": [
    "---"
   ]
  },
  {
   "cell_type": "markdown",
   "id": "b893be48",
   "metadata": {},
   "source": [
    "## 3. Simple Linear Model"
   ]
  },
  {
   "cell_type": "code",
   "execution_count": null,
   "id": "07a03a15",
   "metadata": {},
   "outputs": [],
   "source": [
    "#delete\n",
    "df[\"AESTTime\"] = pd.to_datetime(df[\"AESTTime\"])"
   ]
  },
  {
   "cell_type": "code",
   "execution_count": null,
   "id": "e4fde51a",
   "metadata": {},
   "outputs": [],
   "source": [
    "# Feature Engineering\n",
    "df['hour'] = df['AESTTime'].dt.hour\n",
    "df['dayofweek'] = df['AESTTime'].dt.dayofweek\n",
    "df['hour_scaled'] = df['hour'] * 24  # scale hour\n",
    "\n",
    "from sklearn.linear_model import LinearRegression\n",
    "from sklearn.metrics import accuracy_score\n",
    "\n",
    "# Prepare data\n",
    "X = df[['hour_scaled', 'dayofweek']]\n",
    "y = df['Load']\n",
    "\n",
    "# Train model\n",
    "model = LinearRegression()\n",
    "model.fit(X, y)\n",
    "\n",
    "# Predict and evaluate\n",
    "pred = model.predict(X)\n",
    "print('Accuracy of regression model:', accuracy_score(y, pred.round()))  # Using accuracy_score on regression"
   ]
  },
  {
   "cell_type": "markdown",
   "id": "a82a7840",
   "metadata": {},
   "source": [
    "### Spot the Problem\n",
    "\n",
    "- Identify and explain any issues in the model training and evaluation above.\n",
    "- How would you correct them?"
   ]
  },
  {
   "cell_type": "markdown",
   "id": "0a81c73a",
   "metadata": {},
   "source": [
    "### Task\n",
    "Store the forecats on disk"
   ]
  },
  {
   "cell_type": "markdown",
   "id": "6b720aab",
   "metadata": {},
   "source": [
    "## 4. Git Workflow\n",
    "\n",
    "1. Create a new branch named `feature/forecast-task`\n",
    "2. Stage your changes\n",
    "3. Commit with the message \"Initial live coding task\""
   ]
  }
 ],
 "metadata": {
  "kernelspec": {
   "display_name": "Python 3",
   "language": "python",
   "name": "python3"
  },
  "language_info": {
   "codemirror_mode": {
    "name": "ipython",
    "version": 3
   },
   "file_extension": ".py",
   "mimetype": "text/x-python",
   "name": "python",
   "nbconvert_exporter": "python",
   "pygments_lexer": "ipython3",
   "version": "3.12.10"
  }
 },
 "nbformat": 4,
 "nbformat_minor": 5
}
